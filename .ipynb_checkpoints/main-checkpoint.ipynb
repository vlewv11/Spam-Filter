{
 "cells": [
  {
   "cell_type": "code",
   "execution_count": 14,
   "id": "f23d4b0a",
   "metadata": {},
   "outputs": [
    {
     "ename": "ModuleNotFoundError",
     "evalue": "No module named 'nltk'",
     "output_type": "error",
     "traceback": [
      "\u001b[0;31m---------------------------------------------------------------------------\u001b[0m",
      "\u001b[0;31mModuleNotFoundError\u001b[0m                       Traceback (most recent call last)",
      "Input \u001b[0;32mIn [14]\u001b[0m, in \u001b[0;36m<cell line: 6>\u001b[0;34m()\u001b[0m\n\u001b[1;32m      4\u001b[0m \u001b[38;5;28;01mfrom\u001b[39;00m \u001b[38;5;21;01msklearn\u001b[39;00m\u001b[38;5;21;01m.\u001b[39;00m\u001b[38;5;21;01mnaive_bayes\u001b[39;00m \u001b[38;5;28;01mimport\u001b[39;00m MultinomialNB\n\u001b[1;32m      5\u001b[0m \u001b[38;5;28;01mfrom\u001b[39;00m \u001b[38;5;21;01msklearn\u001b[39;00m\u001b[38;5;21;01m.\u001b[39;00m\u001b[38;5;21;01mmetrics\u001b[39;00m \u001b[38;5;28;01mimport\u001b[39;00m accuracy_score, classification_report\n\u001b[0;32m----> 6\u001b[0m \u001b[38;5;28;01mimport\u001b[39;00m \u001b[38;5;21;01mnltk\u001b[39;00m\n\u001b[1;32m      7\u001b[0m \u001b[38;5;28;01mfrom\u001b[39;00m \u001b[38;5;21;01mnltk\u001b[39;00m\u001b[38;5;21;01m.\u001b[39;00m\u001b[38;5;21;01mcorpus\u001b[39;00m \u001b[38;5;28;01mimport\u001b[39;00m stopwords\n\u001b[1;32m      8\u001b[0m \u001b[38;5;28;01mimport\u001b[39;00m \u001b[38;5;21;01mstring\u001b[39;00m\n",
      "\u001b[0;31mModuleNotFoundError\u001b[0m: No module named 'nltk'"
     ]
    }
   ],
   "source": [
    "import pandas as pd\n",
    "from sklearn.model_selection import train_test_split\n",
    "from sklearn.feature_extraction.text import CountVectorizer\n",
    "from sklearn.naive_bayes import MultinomialNB\n",
    "from sklearn.metrics import accuracy_score, classification_report\n",
    "import nltk\n",
    "from nltk.corpus import stopwords\n",
    "import string"
   ]
  },
  {
   "cell_type": "code",
   "execution_count": 15,
   "id": "bebe4fb5",
   "metadata": {},
   "outputs": [
    {
     "name": "stdout",
     "output_type": "stream",
     "text": [
      "Requirement already satisfied: nltk in /Users/alex/.local/share/virtualenvs/spam_filter-wIZjrOZ6/lib/python3.10/site-packages (3.9.1)\n",
      "Requirement already satisfied: click in /Users/alex/.local/share/virtualenvs/spam_filter-wIZjrOZ6/lib/python3.10/site-packages (from nltk) (8.1.7)\n",
      "Requirement already satisfied: joblib in /Users/alex/.local/share/virtualenvs/spam_filter-wIZjrOZ6/lib/python3.10/site-packages (from nltk) (1.4.2)\n",
      "Requirement already satisfied: regex>=2021.8.3 in /Users/alex/.local/share/virtualenvs/spam_filter-wIZjrOZ6/lib/python3.10/site-packages (from nltk) (2024.7.24)\n",
      "Requirement already satisfied: tqdm in /Users/alex/.local/share/virtualenvs/spam_filter-wIZjrOZ6/lib/python3.10/site-packages (from nltk) (4.66.5)\n"
     ]
    }
   ],
   "source": [
    "!pip install nltk"
   ]
  },
  {
   "cell_type": "code",
   "execution_count": 6,
   "id": "83cb9e95",
   "metadata": {},
   "outputs": [
    {
     "name": "stdout",
     "output_type": "stream",
     "text": [
      "<class 'pandas.core.frame.DataFrame'>\n",
      "RangeIndex: 3474 entries, 0 to 3473\n",
      "Data columns (total 5 columns):\n",
      " #   Column    Non-Null Count  Dtype \n",
      "---  ------    --------------  ----- \n",
      " 0   username  3474 non-null   object\n",
      " 1   email     3474 non-null   object\n",
      " 2   subject   3474 non-null   object\n",
      " 3   body      3388 non-null   object\n",
      " 4   spam      3474 non-null   int64 \n",
      "dtypes: int64(1), object(4)\n",
      "memory usage: 135.8+ KB\n"
     ]
    }
   ],
   "source": [
    "df = pd.read_excel('output.xlsx')\n",
    "df.info()"
   ]
  },
  {
   "cell_type": "code",
   "execution_count": 8,
   "id": "2241ddb1",
   "metadata": {},
   "outputs": [],
   "source": [
    "df = df.dropna(subset='body')"
   ]
  },
  {
   "cell_type": "code",
   "execution_count": 9,
   "id": "bb3d371f",
   "metadata": {},
   "outputs": [
    {
     "name": "stdout",
     "output_type": "stream",
     "text": [
      "<class 'pandas.core.frame.DataFrame'>\n",
      "Int64Index: 3388 entries, 0 to 3473\n",
      "Data columns (total 5 columns):\n",
      " #   Column    Non-Null Count  Dtype \n",
      "---  ------    --------------  ----- \n",
      " 0   username  3388 non-null   object\n",
      " 1   email     3388 non-null   object\n",
      " 2   subject   3388 non-null   object\n",
      " 3   body      3388 non-null   object\n",
      " 4   spam      3388 non-null   int64 \n",
      "dtypes: int64(1), object(4)\n",
      "memory usage: 158.8+ KB\n"
     ]
    }
   ],
   "source": [
    "df.info()"
   ]
  },
  {
   "cell_type": "code",
   "execution_count": 10,
   "id": "5a333666",
   "metadata": {},
   "outputs": [],
   "source": [
    "df['words'] = df['body'].apply(lambda text: list(set(text.lower().split())))"
   ]
  },
  {
   "cell_type": "code",
   "execution_count": 11,
   "id": "a8d7ad6b",
   "metadata": {},
   "outputs": [
    {
     "data": {
      "text/html": [
       "<div>\n",
       "<style scoped>\n",
       "    .dataframe tbody tr th:only-of-type {\n",
       "        vertical-align: middle;\n",
       "    }\n",
       "\n",
       "    .dataframe tbody tr th {\n",
       "        vertical-align: top;\n",
       "    }\n",
       "\n",
       "    .dataframe thead th {\n",
       "        text-align: right;\n",
       "    }\n",
       "</style>\n",
       "<table border=\"1\" class=\"dataframe\">\n",
       "  <thead>\n",
       "    <tr style=\"text-align: right;\">\n",
       "      <th></th>\n",
       "      <th>username</th>\n",
       "      <th>email</th>\n",
       "      <th>subject</th>\n",
       "      <th>body</th>\n",
       "      <th>spam</th>\n",
       "      <th>words</th>\n",
       "    </tr>\n",
       "  </thead>\n",
       "  <tbody>\n",
       "    <tr>\n",
       "      <th>0</th>\n",
       "      <td>no_reply</td>\n",
       "      <td>email.apple.com</td>\n",
       "      <td>Billing Problem</td>\n",
       "      <td>Billing Problem\\n-----------------------------...</td>\n",
       "      <td>2</td>\n",
       "      <td>[avoid, can, by, support., of, help, for, char...</td>\n",
       "    </tr>\n",
       "    <tr>\n",
       "      <th>1</th>\n",
       "      <td>jargal0906</td>\n",
       "      <td>gmail.com</td>\n",
       "      <td>Re: Grad assignment</td>\n",
       "      <td>On Wed, Mar 27, 2024 at 12:44 PM Jagi Jargal &lt;...</td>\n",
       "      <td>2</td>\n",
       "      <td>[ли, link, in, 1:54, jagi, &gt;&gt;, one?, pm, 5:58,...</td>\n",
       "    </tr>\n",
       "    <tr>\n",
       "      <th>2</th>\n",
       "      <td>jargal0906</td>\n",
       "      <td>gmail.com</td>\n",
       "      <td>Re: Grad assignment</td>\n",
       "      <td>This one?\\n\\n\\nOn Tue, Mar 26, 2024 at 5:58 PM...</td>\n",
       "      <td>2</td>\n",
       "      <td>[ли, link, in, 1:54, jagi, &gt;&gt;, one?, pm, 5:58,...</td>\n",
       "    </tr>\n",
       "    <tr>\n",
       "      <th>3</th>\n",
       "      <td>support</td>\n",
       "      <td>rapidapi.com</td>\n",
       "      <td>FREE Invitation From Rapid to apidays [Singapo...</td>\n",
       "      <td>API Hub for Business ( https://www.producthunt...</td>\n",
       "      <td>1</td>\n",
       "      <td>[ceo, hub, their, 1), [singapore/new, $999, of...</td>\n",
       "    </tr>\n",
       "    <tr>\n",
       "      <th>4</th>\n",
       "      <td>firebase-no-reply</td>\n",
       "      <td>google.com</td>\n",
       "      <td>Алексей, Welcome to Firebase</td>\n",
       "      <td>View our web version  \\n&lt;https://notifications...</td>\n",
       "      <td>1</td>\n",
       "      <td>[view, their, of, send, view,, you, for, usage...</td>\n",
       "    </tr>\n",
       "  </tbody>\n",
       "</table>\n",
       "</div>"
      ],
      "text/plain": [
       "            username            email  \\\n",
       "0           no_reply  email.apple.com   \n",
       "1         jargal0906        gmail.com   \n",
       "2         jargal0906        gmail.com   \n",
       "3            support     rapidapi.com   \n",
       "4  firebase-no-reply       google.com   \n",
       "\n",
       "                                             subject  \\\n",
       "0                                    Billing Problem   \n",
       "1                                Re: Grad assignment   \n",
       "2                                Re: Grad assignment   \n",
       "3  FREE Invitation From Rapid to apidays [Singapo...   \n",
       "4                      Алексей, Welcome to Firebase    \n",
       "\n",
       "                                                body  spam  \\\n",
       "0  Billing Problem\\n-----------------------------...     2   \n",
       "1  On Wed, Mar 27, 2024 at 12:44 PM Jagi Jargal <...     2   \n",
       "2  This one?\\n\\n\\nOn Tue, Mar 26, 2024 at 5:58 PM...     2   \n",
       "3  API Hub for Business ( https://www.producthunt...     1   \n",
       "4  View our web version  \\n<https://notifications...     1   \n",
       "\n",
       "                                               words  \n",
       "0  [avoid, can, by, support., of, help, for, char...  \n",
       "1  [ли, link, in, 1:54, jagi, >>, one?, pm, 5:58,...  \n",
       "2  [ли, link, in, 1:54, jagi, >>, one?, pm, 5:58,...  \n",
       "3  [ceo, hub, their, 1), [singapore/new, $999, of...  \n",
       "4  [view, their, of, send, view,, you, for, usage...  "
      ]
     },
     "execution_count": 11,
     "metadata": {},
     "output_type": "execute_result"
    }
   ],
   "source": [
    "df.head()"
   ]
  },
  {
   "cell_type": "code",
   "execution_count": null,
   "id": "06864f54",
   "metadata": {},
   "outputs": [],
   "source": []
  }
 ],
 "metadata": {
  "kernelspec": {
   "display_name": "Python 3 (ipykernel)",
   "language": "python",
   "name": "python3"
  },
  "language_info": {
   "codemirror_mode": {
    "name": "ipython",
    "version": 3
   },
   "file_extension": ".py",
   "mimetype": "text/x-python",
   "name": "python",
   "nbconvert_exporter": "python",
   "pygments_lexer": "ipython3",
   "version": "3.10.6"
  }
 },
 "nbformat": 4,
 "nbformat_minor": 5
}
