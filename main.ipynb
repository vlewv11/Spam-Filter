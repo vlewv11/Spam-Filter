{
 "cells": [
  {
   "cell_type": "code",
   "execution_count": 1,
   "id": "f23d4b0a",
   "metadata": {},
   "outputs": [],
   "source": [
    "import pandas as pd\n",
    "from sklearn.model_selection import train_test_split\n",
    "from sklearn.feature_extraction.text import CountVectorizer\n",
    "from sklearn.naive_bayes import MultinomialNB\n",
    "from sklearn.metrics import accuracy_score, classification_report\n",
    "from sklearn.ensemble import RandomForestClassifier\n",
    "from sklearn.linear_model import LogisticRegression\n",
    "from sklearn.preprocessing import OneHotEncoder\n",
    "import matplotlib.pyplot as plt\n",
    "import seaborn as sns"
   ]
  },
  {
   "cell_type": "code",
   "execution_count": 2,
   "id": "83cb9e95",
   "metadata": {},
   "outputs": [
    {
     "name": "stdout",
     "output_type": "stream",
     "text": [
      "<class 'pandas.core.frame.DataFrame'>\n",
      "RangeIndex: 3474 entries, 0 to 3473\n",
      "Data columns (total 5 columns):\n",
      " #   Column    Non-Null Count  Dtype \n",
      "---  ------    --------------  ----- \n",
      " 0   username  3474 non-null   object\n",
      " 1   email     3474 non-null   object\n",
      " 2   subject   3474 non-null   object\n",
      " 3   body      3388 non-null   object\n",
      " 4   spam      3474 non-null   int64 \n",
      "dtypes: int64(1), object(4)\n",
      "memory usage: 135.8+ KB\n"
     ]
    }
   ],
   "source": [
    "df = pd.read_excel('output.xlsx')\n",
    "df.info()"
   ]
  },
  {
   "cell_type": "code",
   "execution_count": 3,
   "id": "2241ddb1",
   "metadata": {},
   "outputs": [],
   "source": [
    "df = df.dropna(subset='body')"
   ]
  },
  {
   "cell_type": "code",
   "execution_count": 4,
   "id": "bb3d371f",
   "metadata": {
    "scrolled": true
   },
   "outputs": [
    {
     "name": "stdout",
     "output_type": "stream",
     "text": [
      "<class 'pandas.core.frame.DataFrame'>\n",
      "Int64Index: 3388 entries, 0 to 3473\n",
      "Data columns (total 5 columns):\n",
      " #   Column    Non-Null Count  Dtype \n",
      "---  ------    --------------  ----- \n",
      " 0   username  3388 non-null   object\n",
      " 1   email     3388 non-null   object\n",
      " 2   subject   3388 non-null   object\n",
      " 3   body      3388 non-null   object\n",
      " 4   spam      3388 non-null   int64 \n",
      "dtypes: int64(1), object(4)\n",
      "memory usage: 158.8+ KB\n"
     ]
    }
   ],
   "source": [
    "df.info()"
   ]
  },
  {
   "cell_type": "code",
   "execution_count": 5,
   "id": "a4a27410",
   "metadata": {},
   "outputs": [
    {
     "data": {
      "text/plain": [
       "[Text(0, 0, '2735'), Text(0, 0, '653')]"
      ]
     },
     "execution_count": 5,
     "metadata": {},
     "output_type": "execute_result"
    },
    {
     "data": {
      "image/png": "[encoded data removed]",
      "text/plain": [
       "<Figure size 640x480 with 1 Axes>"
      ]
     },
     "metadata": {},
     "output_type": "display_data"
    }
   ],
   "source": [
    "fig = plt.subplots\n",
    "ax = sns.countplot(x='spam', data=df)\n",
    "ax.set_title('Number of spam and ham emails')\n",
    "ax.set_xticklabels(['ham', 'spam'])\n",
    "ax.bar_label(ax.containers[0])"
   ]
  },
  {
   "cell_type": "code",
   "execution_count": 6,
   "id": "5a333666",
   "metadata": {},
   "outputs": [],
   "source": [
    "vectorizer = CountVectorizer()\n",
    "X_message = vectorizer.fit_transform(df['body'])\n",
    "\n",
    "encoder = OneHotEncoder()\n",
    "non_message_features = df[['username', 'email', 'subject']].astype(str).values\n",
    "X_metadata = encoder.fit_transform(non_message_features)\n",
    "\n",
    "X_msg_train, X_msg_test, X_meta_train, X_meta_test, y_train, y_test = train_test_split(\n",
    "    X_message, X_metadata, df['spam'], test_size=0.2, random_state=42\n",
    ")"
   ]
  },
  {
   "cell_type": "code",
   "execution_count": 7,
   "id": "38a8f48e",
   "metadata": {},
   "outputs": [
    {
     "name": "stdout",
     "output_type": "stream",
     "text": [
      "Accuracy: 0.7684365781710915\n",
      "              precision    recall  f1-score   support\n",
      "\n",
      "           0       0.00      0.00      0.00         0\n",
      "           1       0.98      0.96      0.97       545\n",
      "           2       0.00      0.00      0.00       133\n",
      "\n",
      "    accuracy                           0.77       678\n",
      "   macro avg       0.33      0.32      0.32       678\n",
      "weighted avg       0.79      0.77      0.78       678\n",
      "\n"
     ]
    }
   ],
   "source": [
    "nb_model = MultinomialNB()\n",
    "nb_model.fit(X_msg_train, y_train)\n",
    "nb_predictions_train = nb_model.predict_proba(X_msg_train)[:, 1]\n",
    "nb_predictions_test = nb_model.predict_proba(X_msg_test)[:, 1]\n",
    "\n",
    "nb_test = (nb_predictions_test < 0.5).astype(int)\n",
    "print(f\"Accuracy: {accuracy_score(y_test, nb_test)}\")\n",
    "print(classification_report(y_test, nb_test, zero_division=0))"
   ]
  },
  {
   "cell_type": "code",
   "execution_count": 8,
   "id": "b28b1118",
   "metadata": {},
   "outputs": [
    {
     "name": "stdout",
     "output_type": "stream",
     "text": [
      "Accuracy: 0.7964601769911505\n",
      "              precision    recall  f1-score   support\n",
      "\n",
      "           0       0.00      0.00      0.00         0\n",
      "           1       0.98      0.99      0.99       545\n",
      "           2       0.00      0.00      0.00       133\n",
      "\n",
      "    accuracy                           0.80       678\n",
      "   macro avg       0.33      0.33      0.33       678\n",
      "weighted avg       0.79      0.80      0.79       678\n",
      "\n"
     ]
    }
   ],
   "source": [
    "rf_model = RandomForestClassifier(class_weight='balanced')\n",
    "rf_model.fit(X_meta_train, y_train)\n",
    "rf_predictions_train = rf_model.predict_proba(X_meta_train)[:, 1]  # Probability of spam\n",
    "rf_predictions_test = rf_model.predict_proba(X_meta_test)[:, 1]\n",
    "\n",
    "rf_test = (rf_predictions_test < 0.5).astype(int)\n",
    "print(f\"Accuracy: {accuracy_score(y_test, rf_test)}\")\n",
    "print(classification_report(y_test, rf_test, zero_division=0))"
   ]
  },
  {
   "cell_type": "code",
   "execution_count": 9,
   "id": "23cffe13",
   "metadata": {},
   "outputs": [
    {
     "name": "stdout",
     "output_type": "stream",
     "text": [
      "Accuracy: 0.9823008849557522\n",
      "              precision    recall  f1-score   support\n",
      "\n",
      "           1       0.99      0.99      0.99       545\n",
      "           2       0.96      0.95      0.95       133\n",
      "\n",
      "    accuracy                           0.98       678\n",
      "   macro avg       0.97      0.97      0.97       678\n",
      "weighted avg       0.98      0.98      0.98       678\n",
      "\n"
     ]
    }
   ],
   "source": [
    "stacked_train = pd.DataFrame({\n",
    "    'nb_predictions': nb_predictions_train,\n",
    "    'rf_predictions': rf_predictions_train\n",
    "})\n",
    "\n",
    "stacked_test = pd.DataFrame({\n",
    "    'nb_predictions': nb_predictions_test,\n",
    "    'rf_predictions': rf_predictions_test\n",
    "})\n",
    "\n",
    "meta_model = LogisticRegression()\n",
    "meta_model.fit(stacked_train, y_train)\n",
    "final_predictions = meta_model.predict(stacked_test)\n",
    "\n",
    "print(f\"Accuracy: {accuracy_score(y_test, final_predictions)}\")\n",
    "print(classification_report(y_test, final_predictions))"
   ]
  },
  {
   "cell_type": "code",
   "execution_count": 10,
   "id": "2decc255",
   "metadata": {},
   "outputs": [
    {
     "name": "stdout",
     "output_type": "stream",
     "text": [
      "[[540   5]\n",
      " [  7 126]]\n"
     ]
    }
   ],
   "source": [
    "from sklearn.metrics import confusion_matrix\n",
    "\n",
    "print(confusion_matrix(y_test, final_predictions))"
   ]
  }
 ],
 "metadata": {
  "kernelspec": {
   "display_name": "Python 3 (ipykernel)",
   "language": "python",
   "name": "python3"
  },
  "language_info": {
   "codemirror_mode": {
    "name": "ipython",
    "version": 3
   },
   "file_extension": ".py",
   "mimetype": "text/x-python",
   "name": "python",
   "nbconvert_exporter": "python",
   "pygments_lexer": "ipython3",
   "version": "3.10.6"
  }
 },
 "nbformat": 4,
 "nbformat_minor": 5
}
